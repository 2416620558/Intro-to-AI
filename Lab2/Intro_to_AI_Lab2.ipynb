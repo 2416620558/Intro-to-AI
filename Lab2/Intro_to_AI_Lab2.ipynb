{
 "cells": [
  {
   "cell_type": "markdown",
   "id": "84ac9293",
   "metadata": {},
   "source": [
    "姓名： 小宝  \n",
    "学号： 202022020"
   ]
  },
  {
   "cell_type": "markdown",
   "id": "6083af07",
   "metadata": {},
   "source": [
    "<h1 align='center'> 人工智能导论  - 实验二  </h1>"
   ]
  },
  {
   "cell_type": "markdown",
   "id": "caa0a614",
   "metadata": {},
   "source": [
    "### 目录\n",
    "\n",
    "- [I. 爬山问题](#爬山问题)  \n",
    "    - [勇攀高峰](#勇攀高峰)\n",
    "        - [练习1](#1-1)\n",
    "        - [练习2](#1-2)\n",
    "        - [练习3](#1-3)\n",
    "    - [概率](#概率)\n",
    "        - [练习4](#2-1)\n",
    "        - [练习5](#2-2)\n",
    "        - [练习6](#2-3)\n",
    "    - [温度](#温度)\n",
    "        - [练习7](#3-1)\n",
    "        - [练习8](#3-2)\n",
    "        - [练习9](#3-3)\n",
    "    - [模拟退火](#模拟退火)\n",
    "        - [练习10](#4-1)\n",
    "        - [练习11](#4-2)\n",
    "        - [练习12](#4-3)"
   ]
  },
  {
   "cell_type": "markdown",
   "id": "cb29eb0d",
   "metadata": {},
   "source": [
    "## 勇攀高峰 <a id=\"勇攀高峰\"></a>"
   ]
  },
  {
   "cell_type": "markdown",
   "id": "67c4a835",
   "metadata": {},
   "source": [
    "在上一节中，我们学习了如何通过简单地浏览所有可能的解决方案并从中挑选出最佳方案来进行优化。我们提到，当备选方案的数量以天文数字增长时，这种简单的**暴风算法\\(brute-force method)** 可能变得不可行。进一步发展需要更聪明的技术。其中一个被称为**爬山法 \\(hill-climbing method)**。"
   ]
  },
  {
   "cell_type": "markdown",
   "id": "a8d55cf9",
   "metadata": {},
   "source": [
    "其基本思想可以通过以下比喻来说明。想象一下，你在大兴安岭的森林里闲逛，享受着干净和野性的大自然。然而，你可能想给你的朋友打个电话，让他们知道你没事 - 或者你觉得有必要在微信上分享一张美丽的照片，以获得更多的点赞。在野外，手机信号有时会受到限制，所以你要找一个信号比较好的山顶。在树木之间，你不太看得清附近最高的山头在哪里，但你总是可以试着从你所在的地方往上走，希望只要你一直往上走，就能找到一个好地方。"
   ]
  },
  {
   "cell_type": "markdown",
   "id": "dcbf4c1b",
   "metadata": {},
   "source": [
    "![爬山法](https://pic.baike.soso.com/ugc/baikepic2/0/20220415153841-1275054889_jpg_739_386_48631.jpg/800)"
   ]
  },
  {
   "cell_type": "markdown",
   "id": "8e986357",
   "metadata": {},
   "source": [
    "##### 爬山法\n",
    "上述策略相当于所谓的爬山法。在优化术语中，你当前的位置是一个特定的解决方案，而当前的海拔高度（例如从海平面测量的米数）将是优化标准的值。森林中的不同方向将对应于当前解决方案的微小变化。"
   ]
  },
  {
   "cell_type": "markdown",
   "id": "e5d9b295",
   "metadata": {},
   "source": [
    "显然，你可能找不到最高的山顶，如果你非常严格地遵循这个策略，只允许自己往上爬，那么你很可能最终落在一个小山坡上，而根本不是一个真正的最高峰。优化中的爬坡技术也是如此：它*不能保证*你找到绝对*最好的*解决方案，只是一个不能用小的改变来改善的解决方案。***起点决定一切***：如果你有幸从最高峰附近开始，你就有可能找到它。\n",
    "\n",
    "为了更好地理解这个想法，我们先考虑一个涉及实际爬山的简单场景。我们无畏的英雄，登山家`爬小王`，决心征服另一座山。不幸的是，她忘了带她的眼镜，近视眼1000度的她只能看到她的手臂所能达到的最远距离。让我们看看会发生什么。"
   ]
  },
  {
   "cell_type": "markdown",
   "id": "9e7584af",
   "metadata": {},
   "source": [
    "![爬小王](https://buildingai.elementsofai.com/illustrations/Chapter-1/1.3_1-Hill-climbing.svg)"
   ]
  },
  {
   "cell_type": "markdown",
   "id": "ed1d95ef",
   "metadata": {},
   "source": [
    "你应该可以看到，爬小王将到达附近以'x'标记的山顶，然而，这并不是山的最高顶点。爬小王很失望，但并不灰心。她要求你带她到最高峰所在的山坡上，从那里她只需向上走就能到达最高峰。"
   ]
  },
  {
   "cell_type": "markdown",
   "id": "2dfe61c0",
   "metadata": {},
   "source": [
    "#### 练习1 <a id='1-1'></a>\n",
    "你应该把爬小王带到哪两个点形成的区间保证她爬到最高峰？\n"
   ]
  },
  {
   "attachments": {},
   "cell_type": "markdown",
   "id": "38cb2bb7",
   "metadata": {},
   "source": [
    "![marked mountain](1.3_1_Background_Mountains_marked.png)"
   ]
  },
  {
   "cell_type": "code",
   "execution_count": null,
   "id": "78feeba3",
   "metadata": {},
   "outputs": [],
   "source": [
    "# 你的答案是：\n"
   ]
  },
  {
   "cell_type": "markdown",
   "id": "54c4a05c",
   "metadata": {},
   "source": [
    "<details>\n",
    "<summary> <h5> 点击查看答案 </h5> </summary>\n",
    "    为了保证达到红星标记的最高点，我们只能把<i>爬小王</i>放在<b>H</b>和<b>I</b>点之间。放在<b>H</b>点左边，<i>爬小王</i>会到达<b>G</b>点，放在<b>I</b>点右边，<i>爬小王</i>会爬到<b>J</b>点。只有严格限定在红星左右波谷<b>H</b>和<b>I</b>处才能保证<i>爬小王</i>到达最高峰。\n",
    "</details>"
   ]
  },
  {
   "cell_type": "markdown",
   "id": "0a8bf8eb",
   "metadata": {},
   "source": [
    "#### 练习2   <a id='1-2'></a>"
   ]
  },
  {
   "cell_type": "markdown",
   "id": "96ac6702",
   "metadata": {},
   "source": [
    "把山体高度存储在一个100大小的数组h中。最左边的高度对应`h[0]`，最右边的高度对应`h[99]`，如下图所示。"
   ]
  },
  {
   "attachments": {},
   "cell_type": "markdown",
   "id": "28034a54",
   "metadata": {},
   "source": [
    "![attitude map](1.3-Exercise_3-Reaching_the_highest_summit.png)"
   ]
  },
  {
   "cell_type": "markdown",
   "id": "c7a17921",
   "metadata": {},
   "source": [
    "下面的程序从一个随机位置开始，*爬小王*会一直**向右**爬，直到不能再往上。我们把`h[0]`和`h[99]`都设为零，确保*爬小王*不会爬出地图边缘。\n",
    "\n",
    "图中，起点用一个蓝色的小方框标记，*爬小王*停止的地方用一个红色的小三角形标记。理论上，*爬小王*应该可以向左也可以向右，但是以下程序只能允许*爬小王*向右爬。修改程序使得*爬小王*也可以向左攀登高峰。程序中`plot_hill`函数允许我们将结果画图显示"
   ]
  },
  {
   "cell_type": "code",
   "execution_count": null,
   "id": "6976f374",
   "metadata": {},
   "outputs": [],
   "source": [
    "import matplotlib.pyplot as plt\n",
    "import numpy as np\n",
    "\n",
    "def plot_hill(arr, x0, x):\n",
    "    plt.rcParams['font.family'] = 'SimHei'  # 使用中文字体\n",
    "\n",
    "    # 画图函数，无需修改\n",
    "    plt.plot(arr)\n",
    "\n",
    "    # 添加坐标轴\n",
    "    plt.xlabel('坐标点')\n",
    "    plt.ylabel('高度/m')\n",
    "    plt.title('随机山脉地形图')\n",
    "\n",
    "    # 标记起点和终点\n",
    "    plt.scatter(x0, arr[x0], marker='s', s=100, color='green')\n",
    "    plt.scatter(x, arr[x], marker='>', s=100, color='red')\n",
    "\n",
    "    # 显示图像\n",
    "    plt.show()"
   ]
  },
  {
   "cell_type": "code",
   "execution_count": null,
   "id": "cc445c8d",
   "metadata": {},
   "outputs": [],
   "source": [
    "import math\n",
    "import random  # 只是为了生成随机山峰\n",
    "\n",
    "# 生成随机的山峰\n",
    "w = [random.random() / 3, random.random() / 3, random.random() / 3]\n",
    "h = [1. + math.sin(1 + x / 6.) * w[0] + math.sin(-.3 + x / 9.) * w[1] + math.sin(-.2 + x / 30.) * w[2] for x in\n",
    "     range(100)]\n",
    "h[0] = 0.0;\n",
    "h[99] = 0.0\n",
    "\n",
    "def climb(x, h):\n",
    "    # 初始化summit为否\n",
    "    summit = False\n",
    "\n",
    "    # 只要summit是否，意味着没有爬到山顶，while循环继续爬山\n",
    "    while not summit:\n",
    "        summit = True  # 停止爬山\n",
    "        if h[x + 1] > h[x]:    # h[x+1]>h[x]说明右边比左边高，向右继续爬\n",
    "            x = x + 1  # 更新当前坐标\n",
    "            summit = False  # 继续爬山\n",
    "    return x\n",
    "\n",
    "\n",
    "def main(h):\n",
    "    # 从一个随机的地方开始，x0为起点\n",
    "    x0 = random.randint(1, 98)\n",
    "\n",
    "    # 开始爬山，终点记为x\n",
    "    x = climb(x0, h)\n",
    "\n",
    "    # 画图显示\n",
    "    plot_hill(np.array(h), x0, x)\n",
    "\n",
    "    print(\"爬小王从 %d 坐标点爬到了 %d 坐标点\" % (x0, x))\n",
    "    return x0, x\n",
    "\n",
    "\n",
    "main(h)\n"
   ]
  },
  {
   "cell_type": "markdown",
   "id": "d11dc780",
   "metadata": {},
   "source": [
    "#### 练习3  <a id='1-3'></a>"
   ]
  },
  {
   "cell_type": "markdown",
   "id": "efb3b536",
   "metadata": {},
   "source": [
    "*爬小王*现在被要求在爬山的过程中随时注意前后距离，如果在当前点位的左右5步内能发现更高峰，*爬小王*就不能停止爬山。\n",
    "\n",
    "首先运行以下程序观察到*爬小王*现在所在位置是蛇形山脉，请修改以下程序使*爬小王*能达到最高点。"
   ]
  },
  {
   "cell_type": "markdown",
   "id": "36ba6bb9",
   "metadata": {},
   "source": [
    "你可以写一个循环，遍历`x-5, ..., x+5`的值，除了那些在`0-99`范围之外的值，比如说像这样。\n",
    "\n",
    "```python\n",
    "for x_new in range(max(0, x-5), min(99, x+5))\n",
    "```\n",
    "如果任何一个`h[x_new]`的值高于`h[x]`，你可以将`x`更新为`x_new`，并再次重复同样的循环，继续向上走。"
   ]
  },
  {
   "cell_type": "code",
   "execution_count": null,
   "id": "e0edd98c",
   "metadata": {},
   "outputs": [],
   "source": [
    "import math\n",
    "import random                                           \t \n",
    "\n",
    "# 生成随机山峰\n",
    "w = [.05, random.random()/3, random.random()/3]\n",
    "h = [1.+math.sin(1+x/.6)*w[0]+math.sin(-.3+x/9.)*w[1]+math.sin(-.2+x/30.)*w[2] for x in range(100)]\n",
    "\n",
    "def climb(x, h):\n",
    "    # 初始化summit为否\n",
    "    summit = False\n",
    "\n",
    "    # 只要summit是否，意味着没有爬到山顶，while循环继续爬山\n",
    "    while not summit:\n",
    "        summit = True  # 停止爬山\n",
    "        if h[x + 1] > h[x]:    # h[x+1]>h[x]说明右边比左边高，向右继续爬\n",
    "            x = x + 1  # 更新当前坐标\n",
    "            summit = False  # 继续爬山\n",
    "    return x\n",
    "\n",
    "\n",
    "def main(h):\n",
    "    # 初始化随机投放点                                                                                 \t \n",
    "    x0 = random.randint(1, 98)\n",
    "    x = climb(x0, h)\n",
    "    plot_hill(h,x0,x)\n",
    "    print(\"爬小王从 %d 坐标点爬到了 %d 坐标点\" % (x0, x))\n",
    "\n",
    "    return x0, x\n",
    "\n",
    "main(h)\n"
   ]
  },
  {
   "cell_type": "markdown",
   "id": "b8f70191",
   "metadata": {},
   "source": [
    "## 概率 <a id=\"概率\"></a>"
   ]
  },
  {
   "cell_type": "markdown",
   "id": "629836e2",
   "metadata": {},
   "source": [
    "爬山法的一个问题是，我们很容易陷入一个好的但不是最优的解决方案中。这些被称为 ***局部最优 （local optima）***，而绝对的最佳解被称为***全局最优 （global optima）***。(有时可能会有几个同样好的最佳解决方案，在这种情况下，我们也应该说是全局最佳方案）。\n",
    "\n",
    "\n",
    "### 贪婪算法 （Greedy Algorithm）\n",
    "我们只往上爬的简单爬坡方案通常被认为是一种贪婪的方法：它贪婪地优化短期收益，拒绝招致一些暂时的损失，即使这将导致更好的长期收益。\n",
    "\n",
    "为了解决这个问题，已经设计了许多解决方案——数以百计的解决方案。优化领域已经成为一个动物园，异国的算法在那里疯狂地游荡：蚁群算法、遗传算法、模拟退火、塔布搜索...仅举几个例子。\n",
    "\n",
    "\n",
    "### 模拟退火 (Simulated annealing）\n",
    "最简单和最有效的解决方案之一是模拟退火。它是由Scott Kirkpatrick、Daniel Gelatt和Mario P. Vecchi于1983年发明的，其灵感来自于冶金学，在冶金学中，缓慢冷却金属物体可以使其晶体结构找到一个最小能量的配置。该方法非常简单。不是只允许改善解决方案的变化（上坡），而是以一定的概率允许一些使其恶化（下坡）的变化。允许向下过渡的概率取决于两件事：向下的程度和所谓的***温度***。温度越高，允许下坡的概率就越高。我们的想法是，从一个高的温度开始，使变化或多或少是随机的，但要逐渐降低温度，以便最终，向下的概率变得微乎其微。\n",
    "\n",
    "让我们先在Python中练习使用随机性，因为我们需要它来实现模拟退火。下面的程序以20%的概率打印出 \"狗 \"这个词。"
   ]
  },
  {
   "cell_type": "code",
   "execution_count": null,
   "id": "579c3b00",
   "metadata": {},
   "outputs": [],
   "source": [
    "import random\n",
    "prob = 0.20\n",
    "\n",
    "if random.random() < prob:\n",
    "    print('dog')"
   ]
  },
  {
   "cell_type": "markdown",
   "id": "6cbe3915",
   "metadata": {},
   "source": [
    "为什么它以20％的概率打印'dog'？我们的想法是在0.0和1.0之间抽取一个随机值--这就是随机模块中的函数random()的作用——并检查它是否小于以十进制数字表示的所需概率值。例如，随机值落在0.0和0.5之间的概率是50%。该值落在0.5和1.0之间的概率也是50%。它落在0.0和0.2之间的概率是20％，以此类推。\n",
    "\n",
    "我们可以说 \"概率为20%\"，而不是 \"概率为0.2\"。我们也倾向于使用 \"在五分之一的情况下 \"或 \"在十分之一的情况下 \"这样的表述。所有这些都是同样的意思。请注意，\"十次中的两次 \"并不一定意味着某件事情在十次重复中正好有两次会发生。相反，它只是意味着从长远来看，这个频率将是十之二，这是定义概率的一种方式。"
   ]
  },
  {
   "cell_type": "markdown",
   "id": "39f94bbf",
   "metadata": {},
   "source": [
    "#### 练习4  <a id='2-1'></a>"
   ]
  },
  {
   "cell_type": "markdown",
   "id": "567af60a",
   "metadata": {},
   "source": [
    "我们将利用概率来使我们的优化技术更好，帮助它们摆脱局部优化。考虑一下下面这个小规模的例子。我们的目标是让球落在凹凸不平的表面上的最低点，下面用B标记。"
   ]
  },
  {
   "attachments": {},
   "cell_type": "markdown",
   "id": "078ddd8d",
   "metadata": {},
   "source": [
    "![line](1.3_Exercise%204_Probability.png)"
   ]
  },
  {
   "cell_type": "markdown",
   "id": "c13078dc",
   "metadata": {},
   "source": [
    "请注意，这里越低越好，所以我们所做的与爬山的例子完全相反，后者的目标是往上爬。\n",
    "\n",
    "球最初是在D点，这是一个局部最优。假设你可以摇晃表面，使球反弹。如果你轻轻地摇动表面，球就不可能逃离它的初始位置D。如果你给表面一个非常强烈的抽动，球就会随机反弹，然后滚下山去，到达一个局部最优，这个局部最优可能是也可能不是全局最优B。\n",
    "\n",
    "你认为以下哪种摇动策略最有可能成功地使球在你停止后落在最低点B？"
   ]
  },
  {
   "cell_type": "markdown",
   "id": "ccf1bdf2",
   "metadata": {},
   "source": [
    "- 一直轻轻摇动\n",
    "- 第一次轻轻摇，然后逐渐加强\n",
    "- 第一次使劲摇，然后逐渐减弱\n",
    "- 一直使劲摇动"
   ]
  },
  {
   "cell_type": "code",
   "execution_count": null,
   "id": "7956d250",
   "metadata": {},
   "outputs": [],
   "source": [
    "# 你的答案是\n"
   ]
  },
  {
   "cell_type": "markdown",
   "id": "167c592f",
   "metadata": {},
   "source": [
    "<details>\n",
    "    <summary> <h5> 点击查看答案 </h5> </summary>\n",
    "首先强烈地摇动表面，然后逐渐地更轻地摇动，很可能会成功。如果你一开始就轻轻地摇动表面，那么球就不太可能逃出局部最优D。另一方面，如果你在最后强烈地摇动表面，球会反弹到一个随机的位置，然后滚落到一个局部最优。从强烈的摇晃开始，首先会让球随机反弹，但是随着你力度的降低，球的位置越低，就越不可能反弹到局部最优周围的高 \"障碍\"。</details>"
   ]
  },
  {
   "cell_type": "markdown",
   "id": "66af2169",
   "metadata": {},
   "source": [
    "#### 练习5  <a id='2-2'></a>"
   ]
  },
  {
   "cell_type": "markdown",
   "id": "89c53631",
   "metadata": {},
   "source": [
    "回顾一下那个以20%的概率打印出 \"狗 \"这个词的程序。修改该程序，使其要么打印出 \"狗 \"字，要么打印出 \"猫 \"字（但绝不会同时打印，因为你要么是爱狗人士，要么是爱猫人士，但不会同时打印，对吗~）\n",
    "\n",
    "将 \"狗 \"字的概率改为80%（因为显然世界上爱狗的人比爱猫的人多），这样 \"猫 \"字的概率为20%。"
   ]
  },
  {
   "cell_type": "code",
   "execution_count": null,
   "id": "8f806003",
   "metadata": {},
   "outputs": [],
   "source": [
    "import random\n",
    "\n",
    "def main():\n",
    "    prob = 0.20\n",
    "    if random.random() < prob:\n",
    "        print('dog')\n",
    "\n",
    "main()"
   ]
  },
  {
   "cell_type": "markdown",
   "id": "f5fda2cc",
   "metadata": {},
   "source": [
    "#### 练习6  <a id='2-3'></a>"
   ]
  },
  {
   "cell_type": "markdown",
   "id": "6f05585f",
   "metadata": {},
   "source": [
    "编写一个程序，打印出 \"I love \"后面的一个词：附加的词应该是 \"dogs\"，概率为80%，\"cats\"，概率为10%，\"bats\"，概率为10%。"
   ]
  },
  {
   "cell_type": "code",
   "execution_count": null,
   "id": "6fd30b79",
   "metadata": {},
   "outputs": [],
   "source": [
    "import random\n",
    "\n",
    "def main():\n",
    "    # 修改以下代码\n",
    "    favourite = \"bats\"  \n",
    "    \n",
    "    # 打印输出\n",
    "    print(\"I love \" + favourite) \n",
    "\n",
    "\n",
    "main()"
   ]
  },
  {
   "cell_type": "markdown",
   "id": "b312726d",
   "metadata": {},
   "source": [
    "模拟退火的理念与贪婪搜索相似，即优化过程是迭代进行的，逐渐向更好（更高的得分）的解决方案移动。关键的区别在于，在模拟退火中，一个新的解决方案有时可能会被接受，即使它的得分比当前的解决方案低。这是通过在接受规则中引入随机性来实现的：一个比当前方案得分低的新方案被接受的概率取决于新方案和当前方案得分之间的差异。\n"
   ]
  },
  {
   "cell_type": "markdown",
   "id": "56c3b591",
   "metadata": {},
   "source": [
    "### 模拟退火的数学思想\n",
    "\n",
    "当当前解决方案的分数为$S_{old}$时，接受分数为$S_{new}$的新解决方案的概率由公式\n",
    "\n",
    "$prob = exp(-(S_{old}-S_{New})÷T)$\n",
    "\n",
    "给出，其中$T$为温度。(记住，温度是一个抽象的概念，理想情况下，温度开始很高，并逐渐向零下降）。函数$exp(x)$是指数函数，在数学上也可以写成$e$(所谓的欧拉常数e≅2.71828提高到$x$的幂)。在`Python`中，这个函数可以在`numpy`库中找到，所以你必须在代码中把`numpy`导入为`np`，并把这个函数称为`np.exp`。"
   ]
  },
  {
   "cell_type": "markdown",
   "id": "253904ad",
   "metadata": {},
   "source": [
    "## 温度  <a id=\"温度\"></a>"
   ]
  },
  {
   "cell_type": "markdown",
   "id": "a0dff6b5",
   "metadata": {},
   "source": [
    "让我们用上面的接受概率$prob = exp(-(S_{old}-S_{New})÷T)$来工作。\n",
    "\n",
    "注意：不要担心数学问题，你的电脑可以进行实际计算——你只需要填入正确的数字。\n",
    "\n",
    "假设我们的系统有一个当前的 \"分数\"，其中$S_{old}$的值是205（例如，如果我们从字面上谈论爬山的例子，我们的分数可以是以米为单位的高度）。我们想要的分数（$S_{new}$）的值应该是196。我们设定$T$的值为5.\n"
   ]
  },
  {
   "cell_type": "markdown",
   "id": "7a9af736",
   "metadata": {},
   "source": [
    "#### 练习7  <a id='3-1'></a>"
   ]
  },
  {
   "cell_type": "markdown",
   "id": "38f4c5e7",
   "metadata": {},
   "source": [
    "使用模拟退火法，我们有可能接受这个新的分数，即使它没有立即比当前的分数高。在这种情况下，我们选择新分数的概率是多少？\n",
    "\n",
    "提示：你可以用python、matlab或者百度搜索来计算该公式。"
   ]
  },
  {
   "cell_type": "code",
   "execution_count": null,
   "id": "d9d46186",
   "metadata": {},
   "outputs": [],
   "source": [
    "# 你的答案是\n"
   ]
  },
  {
   "cell_type": "markdown",
   "id": "ab73a8cb",
   "metadata": {},
   "source": [
    "<details>\n",
    "    <summary> <h5> 点击查看答案 </h5> </summary>\n",
    "要计算当$S_{old}=205$，$S_{new}=196$，温度$T=5$时的接受概率，你只需将文本$exp(-(205-196)/5)$复制粘贴到浏览器中，就可以得到大约$0.16529$.(可以尝试在<a href=\"https://www.bing.com\">必应浏览器</a>中直接键入文本。</details>"
   ]
  },
  {
   "cell_type": "markdown",
   "id": "c510a4b9",
   "metadata": {},
   "source": [
    "#### 练习8 <a id=\"3-2\"></a>"
   ]
  },
  {
   "cell_type": "markdown",
   "id": "8f7987ca",
   "metadata": {},
   "source": [
    "在上面的情况下，为了以至少0.5的概率选择这个新状态，温度$T$需要是多少？"
   ]
  },
  {
   "cell_type": "code",
   "execution_count": null,
   "id": "2ecad4b9",
   "metadata": {},
   "outputs": [],
   "source": [
    "# 你的答案是\n"
   ]
  },
  {
   "cell_type": "markdown",
   "id": "60c0d076",
   "metadata": {},
   "source": [
    "<details>\n",
    "    <summary> <h5> 点击查看提示 </h5> </summary>\n",
    "你可以使用大多数搜索引擎通过输入方程式来计算。例如，如果分数之间的差异是2，而温度是4，你可以输入 \"exp(-2/4)\"，得到接受概率约0.6065。</details>"
   ]
  },
  {
   "cell_type": "markdown",
   "id": "6345aceb",
   "metadata": {},
   "source": [
    "#### 练习9 <a id=\"3-3\"></a>"
   ]
  },
  {
   "cell_type": "markdown",
   "id": "b46c8e74",
   "metadata": {},
   "source": [
    "假设当前解决方案的得分$S_{old}=150$，你尝试做一个小的修改，创建一个新的解决方案，此时得分$S_{new}=140$。在贪婪算法中，这个新的解决方案不会被接受，因为它意味着分数的减少。在模拟退火法中，新的解决方案会**以一定的概率**被接受。\n",
    "\n",
    "修改 `accept_prob` 函数，使其返回使用模拟退火法接受新状态的概率。该程序应该把两个分数值（当前和新的）和温度值作为参数。"
   ]
  },
  {
   "cell_type": "code",
   "execution_count": null,
   "id": "f255e3ec",
   "metadata": {},
   "outputs": [],
   "source": [
    "import random\n",
    "import math\n",
    "\n",
    "\n",
    "def accept_prob(S_old, S_new, T):\n",
    "    # 这个算法是贪婪算法，只要新的分值大于旧的分值，就进行100%的替换，否则100%不替换\n",
    "    # 我们的任务是修改贪婪算法为模拟退火算法，所以在新的分值大于旧的分值的情况下，100%替换旧的分值\n",
    "    # 而在新的分值小于旧的分值的情况下，根据一定的概率进行替换\n",
    "    if S_new > S_old:\n",
    "        return 1.0\n",
    "    else:\n",
    "        return 0.0\n",
    "\n",
    "\n",
    "# 无需修改以下函数\n",
    "def accept(S_old, S_new, T):\n",
    "    if random.random() < accept_prob(S_old, S_new, T):\n",
    "        print(True)\n",
    "    else:\n",
    "        print(False)\n",
    "\n",
    "\n",
    "# 调用函数\n",
    "accept(150, 140, 5)\n"
   ]
  },
  {
   "cell_type": "markdown",
   "id": "20fe4f88",
   "metadata": {},
   "source": [
    "## 模拟退火 <a id='模拟退火'> </a>"
   ]
  },
  {
   "cell_type": "markdown",
   "id": "4e0c27c2",
   "metadata": {},
   "source": [
    "![simulation](https://miro.medium.com/v2/resize:fit:1100/1*FwkORh_sdEtA7h7SJhs5hA.gif)"
   ]
  },
  {
   "cell_type": "markdown",
   "id": "40b99f53",
   "metadata": {},
   "source": [
    "#### 练习10 <a id=\"4-1\"> </a>"
   ]
  },
  {
   "cell_type": "markdown",
   "id": "a4f4043c",
   "metadata": {},
   "source": [
    "为了理解温度所起的作用，值得在此停顿一下，思考并回答以下问题。\n",
    "\n",
    "当我们把温度值提高到一个大得离谱的数字时会发生什么？"
   ]
  },
  {
   "cell_type": "markdown",
   "id": "6711a7b7",
   "metadata": {},
   "source": [
    "- 我们拒绝所有的新方案\n",
    "- 我们只接受比当前方案好的新方案\n",
    "- 我们只接受比当前方案差的新方案\n",
    "- 我们接受所有的新方案。"
   ]
  },
  {
   "cell_type": "code",
   "execution_count": null,
   "id": "bb9f2a12",
   "metadata": {},
   "outputs": [],
   "source": [
    "# 你的答案是 \n"
   ]
  },
  {
   "cell_type": "markdown",
   "id": "bfafa82a",
   "metadata": {},
   "source": [
    "如果我们将温度设置为尽可能接近0，会发生什么？ "
   ]
  },
  {
   "cell_type": "markdown",
   "id": "3dd15ec0",
   "metadata": {},
   "source": [
    "- 我们拒绝所有新的解决方案\n",
    "- 我们只接受比当前方案更好的新方案\n",
    "- 我们只接受比当前方案更差的新方案\n",
    "- 我们接受所有新方案。"
   ]
  },
  {
   "cell_type": "code",
   "execution_count": null,
   "id": "54149275",
   "metadata": {},
   "outputs": [],
   "source": [
    "# 你的答案是 \n"
   ]
  },
  {
   "cell_type": "markdown",
   "id": "823d6d83",
   "metadata": {},
   "source": [
    "<details>\n",
    "    <summary> <h5> 点击查看答案 </h5> </summary>\n",
    "当温度很高时，我们接受所有新的方案，而当温度接近0时，我们只接受比旧方案分值更高的新的方案结果。\n",
    "</details>"
   ]
  },
  {
   "cell_type": "markdown",
   "id": "fd263f2a",
   "metadata": {},
   "source": [
    "#### 练习11 <a id=\"4-2\"> </a>"
   ]
  },
  {
   "cell_type": "markdown",
   "id": "0e07805a",
   "metadata": {},
   "source": [
    "一维模拟退火：修改下面的程序，使用模拟退火而不是普通的爬山法。在模拟退火法中，接受一个更低分数的解决方案的概率由$$prob = exp(-(S_{old} - S_{new})/T)$$给出。设置温度T并逐渐降低可以有很多方法，其中一些方法会导致比其他方法更好的结果。在这种情况下，一个好的选择是，例如$$T = 2*max(0, ((step-step*1.2)/steps))**3$$\n",
    "\n",
    "运行该代码会产生类似以下图表的东西，其中黑框标志着起点。下面的代码使用了普通的爬山策略，只往上爬到一个高峰。解决方案由一颗红星标记。正如你所看到的，爬坡策略往往会卡在局部优化区。\n"
   ]
  },
  {
   "attachments": {},
   "cell_type": "markdown",
   "id": "cbfdeff7",
   "metadata": {},
   "source": [
    "![annealing](1.3-Exercise%206-Simulate_annealing.png)"
   ]
  },
  {
   "cell_type": "markdown",
   "id": "39e166ca",
   "metadata": {},
   "source": [
    "你的任务是修改代码以使用模拟退火法。使用上面提供的设定温度的冷却时间表，并修改接受标准，从只接受向上移动到接受适当概率的向下移动。请记住，在这个练习中，模拟退火法的得分是山体上某个特定位置的高度。还要注意的是，你需要单独处理T=0的情况，因为对于零温度来说，较差分数的接受概率应该是零，但是概率的计算公式会导致除以零。"
   ]
  },
  {
   "cell_type": "code",
   "execution_count": null,
   "id": "f3b4c6c6",
   "metadata": {},
   "outputs": [],
   "source": [
    "import math, random  \n",
    "import numpy as np\n",
    "\n",
    "n = 10000  # 山峦长度，爬小王可能位于的位置： x = 0, ..., n-1\n",
    "\n",
    "\n",
    "# 生成随机峰值\n",
    "def mountains(n):\n",
    "    h = [0] * n  # 初始化一个n长度的一维向量，全部0值\n",
    "    for i in range(50):\n",
    "        c = random.randint(20, n - 20)\n",
    "        w = random.randint(3, int(math.sqrt(n / 5))) ** 2\n",
    "        s = random.random()\n",
    "        h[max(0, c - w):min(n, c + w)] = [h[i] + s * (w - abs(c - i)) for i in range(max(0, c - w), min(n, c + w))]\n",
    "\n",
    "    # 缩放高度，使最低点为0.0，最高峰为1.0\n",
    "    low = min(h)\n",
    "    high = max(h)\n",
    "    h = [y - low for y in h]\n",
    "    h = [y / (high - low) for y in h]\n",
    "    return h\n",
    "\n",
    "\n",
    "h = mountains(n)\n",
    "\n",
    "# 从一个随机点x0开始\n",
    "x0 = random.randint(1, n - 1)\n",
    "x = x0\n",
    "\n",
    "# 开始爬升5000步\n",
    "steps = 5000\n",
    "\n",
    "\n",
    "def main(h, x):\n",
    "    n = len(h)\n",
    "    # for循环开始爬山\n",
    "    for step in range(steps):\n",
    "        # 这是我们用于模拟退火的温度，一开始时很大，每走一步都会减少，此处无需修改\n",
    "        T = 2 * max(0, ((steps - step * 1.2) / steps)) ** 3\n",
    "\n",
    "        # 我们试着随机向左或向右移动（最多1000步）。\n",
    "        # 确保我们不会在0或n-1处掉下出地图边缘\n",
    "        # 我们下一步的候选高度分数S_new，也就是h[x_new]\n",
    "        # 我们当前位置的高度S_old，也就是h[x]\n",
    "        x_new = random.randint(max(0, x - 1000), min(n - 1, x + 1000))\n",
    "\n",
    "        if h[x_new] > h[x]:\n",
    "            x = x_new  # 如果新位置分值更高（在山上的位置更高），则更新最高位置点\n",
    "        else:\n",
    "            pass  # 在这里添加模拟退火的算法。记住要正确处理T=0!\n",
    "\n",
    "    return x\n",
    "\n",
    "\n",
    "x = main(h, x0)\n",
    "print(\"最终位于 %d, 最高峰在 %d\" % (x, np.argmax(h)))"
   ]
  },
  {
   "cell_type": "markdown",
   "id": "76a78f1c",
   "metadata": {},
   "source": [
    "以下提供了画图代码，直接运行即可。"
   ]
  },
  {
   "cell_type": "code",
   "execution_count": null,
   "id": "3cfa6edf",
   "metadata": {},
   "outputs": [],
   "source": [
    "import matplotlib as mpl\n",
    "import matplotlib.pyplot as plt\n",
    "import matplotlib.colors as mcolors\n",
    "from matplotlib.patches import Polygon\n",
    "\n",
    "\n",
    "def gradient_fill(x, y, fill_color=None, ax=None, **kwargs):\n",
    "    if ax is None:\n",
    "        ax = plt.gca()\n",
    "\n",
    "    line, = ax.plot(x, y, **kwargs)\n",
    "    if fill_color is None:\n",
    "        fill_color = line.get_color()\n",
    "\n",
    "    zorder = line.get_zorder()\n",
    "    alpha = line.get_alpha()\n",
    "    alpha = 1.0 if alpha is None else alpha\n",
    "\n",
    "    z = np.empty((100, 1, 4), dtype=float)\n",
    "    rgb = mcolors.colorConverter.to_rgb(fill_color)\n",
    "    z[:, :, :3] = rgb\n",
    "    z[:, :, -1] = np.linspace(0, alpha, 100)[:, None]\n",
    "\n",
    "    xmin, xmax, ymin, ymax = x.min(), x.max(), y.min(), y.max()\n",
    "    im = ax.imshow(z, aspect='auto', extent=[xmin, xmax, ymin, ymax],\n",
    "                   origin='lower', zorder=zorder)\n",
    "\n",
    "    xy = np.column_stack([x, y])\n",
    "    xy = np.vstack([[xmin, ymin], xy, [xmax, ymin], [xmin, ymin]])\n",
    "    clip_path = Polygon(xy, facecolor='none', edgecolor='none', closed=True, zorder=-100)\n",
    "    ax.add_patch(clip_path)\n",
    "    im.set_clip_path(clip_path)\n",
    "\n",
    "    return line, im\n",
    "\n",
    "\n",
    "def plot_intermediate():\n",
    "    xx = np.array(list(range(n)))\n",
    "    yy = np.array(h)\n",
    "    plt.figure(figsize=(10, 2))\n",
    "    plt.gca().set_ylim(0, 1.2)\n",
    "    plt.gca().set_xlim(0, n)\n",
    "    plotlim = plt.gca().get_xlim() + plt.gca().get_ylim()\n",
    "    cmap = mpl.cm.Blues(np.linspace(.2, .6, 100))\n",
    "    cmap = mpl.colors.ListedColormap(cmap[10:, :-1])\n",
    "    plt.imshow([[0, 0], [1, 1]], cmap=cmap, interpolation='bicubic', extent=plotlim, zorder=-200)\n",
    "    plt.grid(False)\n",
    "    plt.fill_between(xx, 0, yy, color='rosybrown', zorder=-150)\n",
    "    gradient_fill(xx, yy, 'white', plt.gca(), color='None')\n",
    "    plt.plot([x0], [h[x0]], color='k', marker='s', markersize=10, zorder=50)\n",
    "    plt.plot([x], [h[x]], color='r', marker='*', markersize=15, zorder=51)\n",
    "\n",
    "    plt.show()\n",
    "\n",
    "\n",
    "plot_intermediate()"
   ]
  },
  {
   "cell_type": "markdown",
   "id": "904666a1",
   "metadata": {},
   "source": [
    "#### 练习12 <a id=\"4-3\"> </a>"
   ]
  },
  {
   "cell_type": "markdown",
   "id": "d2ffff39",
   "metadata": {},
   "source": [
    "让我们使用模拟退火法来解决一个简单的二维优化问题。下面的代码并行运行50个优化轨道（在同一时间）。它目前只在当前的解决方案周围寻找，并且只接受向上的移动。修改该程序，使其使用模拟退火法。记住，接受一个降低分数的解决方案的概率由$prob=exp(-(S_{old}-S_{new})/T)$给出。记住也要调整温度，使其随着模拟的进行而降低，并正确处理$T=0$的情况。你的目标是确保平均而言，至少有30条优化轨道找到全局最优（最高峰）。"
   ]
  },
  {
   "cell_type": "code",
   "execution_count": null,
   "id": "3eb5bbac",
   "metadata": {},
   "outputs": [],
   "source": [
    "import numpy as np\n",
    "import random\n",
    "\n",
    "N = 100 # 问题的大小为N x N\n",
    "steps = 3000 # 迭代的总次数\n",
    "tracks = 50\n",
    "\n",
    "# 生成一个具有多个局部最优的景观\n",
    "def generator(x, y, x0=0.0, y0=0.0):\n",
    "    return np.sin((x / N - x0) * np.pi) + np.sin((y / N - y0) * np.pi) + \\\n",
    "           .07 * np.cos(12 * (x / N - x0) * np.pi) + .07 * np.cos(12 * (y / N - y0) * np.pi)\n",
    "\n",
    "x0 = np.random.random() - 0.5\n",
    "y0 = np.random.random() - 0.5\n",
    "h = np.fromfunction(np.vectorize(generator), (N, N), x0=x0, y0=y0, dtype=int)\n",
    "peak_x, peak_y = np.unravel_index(np.argmax(h), h.shape)\n",
    "\n",
    "# 起始点\n",
    "x = np.random.randint(0, N, tracks)\n",
    "y = np.random.randint(0, N, tracks)\n",
    "\n",
    "def main():\n",
    "    global x\n",
    "    global y\n",
    "\n",
    "    for step in range(steps):\n",
    "        # 在这里添加一个温度变化公式\n",
    "        T = 1\n",
    "        # 在每个搜索轨道上更新解决方案\n",
    "        for i in range(tracks):\n",
    "            # 在当前方案附近尝试一个新的方案\n",
    "            x_new = np.random.randint(max(0, x[i]-2), min(N, x[i]+2+1))\n",
    "            y_new = np.random.randint(max(0, y[i]-2), min(N, y[i]+2+1))\n",
    "            S_old = h[x[i], y[i]]\n",
    "            S_new = h[x_new, y_new]\n",
    "\n",
    "            # 修改以下代码，使用模拟退火法\n",
    "            if S_new > S_old:\n",
    "                x[i], y[i] = x_new, y_new   #新的解决方案更好，去那里\n",
    "            else:\n",
    "                pass                        # 如果新的解决方案更糟糕，就什么都不做\n",
    "\n",
    "    # 找到峰值的轨道数量\n",
    "    print(sum([x[j] == peak_x and y[j] == peak_y for j in range(tracks)]))\n",
    "\n",
    "main()\n"
   ]
  },
  {
   "cell_type": "markdown",
   "id": "b3cecb49",
   "metadata": {},
   "source": [
    "画图函数，直接运行即可"
   ]
  },
  {
   "cell_type": "code",
   "execution_count": null,
   "id": "d461d578",
   "metadata": {},
   "outputs": [],
   "source": [
    "import matplotlib.pyplot as plt\n",
    "from matplotlib import cm\n",
    "\n",
    "plt.xlim(0, N-1)\n",
    "plt.ylim(0, N-1)\n",
    "plt.imshow(h, cmap=cm.gist_earth)\n",
    "plt.scatter([peak_y], [peak_x], color='red', marker='+', s=100)\n",
    "\n",
    "for j in range(tracks):\n",
    "\n",
    "    c = cm.tab20(j/tracks)    # use different colors for different tracks \n",
    "    plt.scatter([y[j]], [x[j]], color=c, s=20)\n",
    "\n",
    "plt.show()"
   ]
  },
  {
   "cell_type": "code",
   "execution_count": null,
   "id": "49c30bd9",
   "metadata": {},
   "outputs": [],
   "source": [
    "# 恭喜完成实验2的练习"
   ]
  }
 ],
 "metadata": {
  "kernelspec": {
   "display_name": "Python 3 (ipykernel)",
   "language": "python",
   "name": "python3"
  },
  "language_info": {
   "codemirror_mode": {
    "name": "ipython",
    "version": 3
   },
   "file_extension": ".py",
   "mimetype": "text/x-python",
   "name": "python",
   "nbconvert_exporter": "python",
   "pygments_lexer": "ipython3",
   "version": "3.9.12"
  }
 },
 "nbformat": 4,
 "nbformat_minor": 5
}
