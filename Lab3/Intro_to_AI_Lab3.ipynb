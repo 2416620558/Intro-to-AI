{
 "cells": [
  {
   "cell_type": "markdown",
   "id": "6bcfeed5",
   "metadata": {},
   "source": [
    "姓名：小宝\n",
    "\n",
    "学号：20202020"
   ]
  },
  {
   "cell_type": "markdown",
   "id": "19ab9fb3",
   "metadata": {},
   "source": [
    "<h1 align='center'> 处理不确定性 </h1>"
   ]
  },
  {
   "cell_type": "markdown",
   "id": "092bbb44",
   "metadata": {},
   "source": [
    "## 目录\n",
    "\n",
    "- [概率基础](#概率基础)\n",
    "    - [练习1. 投掷硬币](#toss)\n",
    "    - [练习2. 钓鱼](#fishing)\n",
    "- [贝叶斯法则](#贝叶斯法则)\n",
    "    - [练习3. 粉丝机器人](#fence)\n",
    "- [朴素贝叶斯分类器](#朴素贝叶斯分类器)\n",
    "    - [练习4. 垃圾邮件](#spam)\n"
   ]
  },
  {
   "cell_type": "markdown",
   "id": "52642491",
   "metadata": {},
   "source": [
    "### 概率基础 <a id=\"概率基础\"></a>"
   ]
  },
  {
   "cell_type": "markdown",
   "id": "47e0e91e",
   "metadata": {},
   "source": [
    "许多现实世界的人工智能应用必须处理不精确和不确定的问题。当你用手机发消息给你的朋友时，你的手指经常会有点不准确地触及屏幕上的按键。\n",
    "或者，也许你已经换成了文字转语音：同样的情况更适用于你说话时捕获的音频信号。由于背景噪音的变化，麦克风相对于你的嘴的位置，以及你自己生理参数的变化，你的声音永远不会被完全捕捉到。来自触摸屏或麦克风的数据是不精确的，可能包含相互矛盾的因素。因此，该设备将无法完全确定你说的是哪个字或词：是'眼睛'还是'眼镜'？你说的是'输暖管手术投保'还是'输卵管手术投保'？\n"
   ]
  },
  {
   "cell_type": "markdown",
   "id": "ceff62a5",
   "metadata": {},
   "source": [
    "#### 概率的重要性\n",
    "概率可能是处理不确定性的最好方法。这就是为什么概率也是大多数统计学的坚实基础。你可能没有想过，但要探索概率，编程是一个特别有趣和有用的工具。使用计算机模拟做涉及概率的简单实验是相当容易的。然而，学习编程的另一个原因是：在学习如何更好地理解概率时，它实际上是有帮助的。"
   ]
  },
  {
   "cell_type": "markdown",
   "id": "03bd18e4",
   "metadata": {},
   "source": [
    "我们的第一个练习将涉及投掷硬币。抛硬币是一个典型的例子，如果我们重复试验（抛硬币），随后的试验是独立的（任何给定的抛硬币的结果都不取决于先前的结果）--这意味着我们可以将各个事件的概率相乘。"
   ]
  },
  {
   "cell_type": "markdown",
   "id": "6b0f25da",
   "metadata": {},
   "source": [
    "#### 练习1 投掷硬币 <a id='toss'> </a>"
   ]
  },
  {
   "cell_type": "markdown",
   "id": "0ba5971d",
   "metadata": {},
   "source": [
    "##### 练习1.1"
   ]
  },
  {
   "cell_type": "markdown",
   "id": "cdd7549d",
   "metadata": {},
   "source": [
    "抛硬币时，你有两种可能的产出--头和尾。\n",
    "抛掷硬币时，连续得到两枚尾巴的概率是多少？  \n",
    "- 0.125  \n",
    "- 0.25  \n",
    "- 0.333"
   ]
  },
  {
   "cell_type": "code",
   "execution_count": null,
   "id": "60503b81",
   "metadata": {},
   "outputs": [],
   "source": [
    "# 你的答案是\n"
   ]
  },
  {
   "cell_type": "markdown",
   "id": "0dc43bc1",
   "metadata": {},
   "source": [
    "抛硬币时，你有两种可能的产出--头和尾。\n",
    "抛掷硬币时，连续得到四枚尾巴的概率是多少？  \n",
    "- 0.125  \n",
    "- 0.25  \n",
    "- 0.0625"
   ]
  },
  {
   "cell_type": "code",
   "execution_count": null,
   "id": "66684f9f",
   "metadata": {},
   "outputs": [],
   "source": [
    "# 你的答案是\n"
   ]
  },
  {
   "cell_type": "markdown",
   "id": "84e87289",
   "metadata": {},
   "source": [
    "##### 练习1.2\n",
    "编写一个程序，计算 \"11 \"在一个0和1的输入序列中出现的次数。程序的输入仅仅是序列，它应该返回一个数字，即 \"11 \"的出现次数。"
   ]
  },
  {
   "cell_type": "code",
   "execution_count": null,
   "id": "21568037",
   "metadata": {},
   "outputs": [],
   "source": [
    "def count11(seq):\n",
    "   # 定义此函数并以数字形式返回出现的次数\n",
    "   return None\n",
    "\n",
    "print(count11([0, 0, 1, 1, 1, 0])) # 应该打印2\n"
   ]
  },
  {
   "cell_type": "markdown",
   "id": "80eee03d",
   "metadata": {},
   "source": [
    "如果你在一个由随机抽取0和1的概率相同的序列上测试这个程序，\"11 \"的平均出现次数大约是序列长度的四分之一（准确地说：序列长度减去1，因为在一个长度为n的序列中只有n-1个长度为2的子序列的位置）。这可以根据以下事实来解释：连续得到两个1的概率正好是四分之一，或25%。"
   ]
  },
  {
   "cell_type": "markdown",
   "id": "38491a78",
   "metadata": {},
   "source": [
    "##### 练习1.3\n",
    "编写一个程序，生成10000个随机的0和1，其中1的概率为$p1$，0的概率为$1-p1$（提示：`np.random.choice([0,1], p=[1-p1, p1], size=10000)`），计算序列中连续5个1（\"1111\"）出现的次数，并将该数字作为返回值输出。检查一下，对于$p_1=2/3$，计数接近$10000×（2/3)^5≈1316.9$。"
   ]
  },
  {
   "cell_type": "code",
   "execution_count": null,
   "id": "68272113",
   "metadata": {},
   "outputs": [],
   "source": [
    "import numpy as np\n",
    "\n",
    "\n",
    "def generate(p1):\n",
    "    # 改变代码使得生成10000个随机的0和1，其中1的概率为p1\n",
    "    seq = np.empty(10000)\n",
    "    return seq\n",
    "\n",
    "\n",
    "def count(seq):\n",
    "    # 插入代码以返回序列中1111的出现次数\n",
    "    return None\n",
    "\n",
    "\n",
    "def main(p1):\n",
    "    seq = generate(p1)\n",
    "    return count(seq)\n",
    "\n",
    "\n",
    "print(main(2 / 3))\n"
   ]
  },
  {
   "cell_type": "markdown",
   "id": "ea7c0e15",
   "metadata": {},
   "source": [
    "$\"11111\"$在序列中任何特定位置出现的概率可以计算为$(2/3)^5≈0.13169$。出现的次数接近于这个数字的10000倍，1316.9. 更准确地说，预期出现的次数大约是$0.13169×9996≈1316.3$，因为在10000个序列中只有9996个长度为5的子序列的位置。实际数字通常（事实上，超过99%的概率）会在1230和1404之间。我们检查一下允许有更大余地的解决方案，涵盖99.99%的情况。"
   ]
  },
  {
   "cell_type": "markdown",
   "id": "a595d625",
   "metadata": {},
   "source": [
    "**关键术语:蒙特卡洛方法**\n",
    "\n",
    "蒙特卡洛方法是一种基于随机数统计的数值计算方法。它以概率统计学为基础，利用随机数的特性来解决一些复杂的数学问题，例如计算高维积分、求解微分方程、优化问题等。\n",
    "\n",
    "蒙特卡洛方法的基本思想是通过随机采样得到大量的样本数据，然后利用这些数据来估计数学问题的解。它的核心在于通过大量的随机采样来逼近问题的真实解，因此其计算精度可以通过增加采样次数来不断提高。\n",
    "\n",
    "蒙特卡洛方法在实际应用中非常广泛，例如在金融领域中用于估算金融风险和期权定价，也被广泛应用于物理、化学、生物等科学领域中的计算和模拟。"
   ]
  },
  {
   "cell_type": "markdown",
   "id": "a171a862",
   "metadata": {},
   "source": [
    "我们讨论概率的动机不仅仅是为了理解掷硬币或其他游戏。我们将使用概率进行推理--从一件事推断出另一件事。这是以条件概率为基础的。条件概率实际上是一个非常简单的概念。我们将在这里做一个非常简短的回顾，但如果你觉得你需要慢慢来，让它沉淀下来，我们建议你再看看相关视频。"
   ]
  },
  {
   "cell_type": "markdown",
   "id": "b168a131",
   "metadata": {},
   "source": [
    "![footer-ice-fishing](footer-ice-fishing.gif)"
   ]
  },
  {
   "cell_type": "markdown",
   "id": "5acc6cdb",
   "metadata": {},
   "source": [
    "让我们从一个具体的例子开始。根据经合组织最近的统计数据，芬兰有$26,522,652$名职业渔民（虽然没有得到官方认可，但我们要用这个词来替代渔夫/渔妇/渔民）受雇于渔业——最 \"新 \"的统计数据是2013年的，但这对所要说明的问题并不重要。2013年芬兰的总人口为$5,439,000$，因此渔业只雇用了大约$0.049\\%$，或不到$2000$名芬兰人中的一个。同时，在挪威，渔民人数为$11,611$人，总人口$5,080,000$人，约占$0.229\\%$，约为每$438$名挪威人中有一人。下表列出所有北欧国家的相关统计数据。"
   ]
  },
  {
   "cell_type": "markdown",
   "id": "898aead5",
   "metadata": {},
   "source": [
    "<table class=\"css-1gqxwp4 e1sg8l2h0\"><tbody><tr><th>国家</th><th>总人口</th><th>渔民</th><th>比例</th><tr><td>丹麦</td><td>5,615,000</td><td>1,891</td><td>0.034%</td></tr><tr><td>芬兰</td><td>5,439,000</td><td>2,652</td><td>0.049%</td></tr><tr><td>冰岛</td><td>324,000</td><td>3,800</td><td>1.173%</td></tr><tr><td>挪威</td><td>5,080,000</td><td>11,611</td><td>0.229%</td></tr><tr><td>瑞典</td><td>9,609,000</td><td>1,757</td><td>0.018%</td></tr><tr><td>总计</td><td>26,067,000</td><td>21,711</td><td>0.083%</td></tr></table>"
   ]
  },
  {
   "cell_type": "markdown",
   "id": "c2f5b094",
   "metadata": {},
   "source": [
    "对于熟悉北欧国家自然资源和传统工业结构的人来说，这看起来一点都不奇怪。丹麦、芬兰和瑞典是相对较大的国家，拥有大量的森林和强大的农业，而挪威，特别是冰岛则更多地依靠海洋的恩惠。因此，在这两个国家居住的从事渔业工作的人数较多（无论是绝对数字还是百分比）。\n",
    "\n",
    "回到概率的话题上，让我们想象一下，我们可以进行一次抽奖，随机抽中北欧国家的任何公民。由于瑞典的人口比冰岛多得多，中奖者更有可能是瑞典人而不是冰岛人。抽中某个特定国家的人的概率可以通过将`某国总人口`$ ÷$ `北欧各国总人口`来计算，已知$北欧各国总人口=26,067,000$。\n",
    "\n",
    "如此，每个国家被抽中的概率如下。"
   ]
  },
  {
   "cell_type": "markdown",
   "id": "b1ac677d",
   "metadata": {},
   "source": [
    "<table class=\"css-1gqxwp4 e1sg8l2h0\"><tbody><tr><th>国家</th><th>抽中概率</th></tr><tr><td>丹麦</td><td>21.5%</td><tr><td>芬兰</td><td>20. 9%</td></tr><tr><td>冰岛</td><td>1.2%</td></tr><tr><td>挪威</td><td>19.5%</td></tr><tr><td>瑞典</td><td>36.9%</td><tr></tbody></table>"
   ]
  },
  {
   "cell_type": "markdown",
   "id": "1c30f0af",
   "metadata": {},
   "source": [
    "现在，我们假设此次抽奖是由北欧渔业协会举办，只针对北欧各国渔民进行抽奖。那么我们可以通过用`某国渔民总人数` $÷$ `北欧各国渔民总人数`，即$21,711$，来计算出中奖者来自某一特定国家的概率。"
   ]
  },
  {
   "cell_type": "markdown",
   "id": "aefe7502",
   "metadata": {},
   "source": [
    "例如\n",
    "$$P(X|Y) = P(丹麦∣渔民)=渔民(丹麦)÷渔民(总数)$$\n",
    "上式中的P(X|Y)表示已知Y，求X发生的概率。X和Y都是事件或情况。所以已知渔民总数，渔民是丹麦人的概率就是8.7%。\n",
    "\n",
    "上面的例子所展示的是使用**条件概率**来更新我们对彩票中奖者国籍的猜测。\n",
    "\n",
    "在得知中奖者是渔民之前，最可能的国籍是瑞典，这是基于瑞典是北欧国家中人口最多的国家这一事实。在得知中奖者是渔民后，最可能的国籍是挪威，这是基于挪威是北欧国家中渔民数量最多的国家这一事实。\n",
    "\n",
    "使用概率来表示不确定性的好处可以延续到更复杂的情景中，在这些情景中，我们可能会了解到多种信息，例如，幸运儿是男性还是女性，或者他们的年龄。这将使我们能够进一步完善和更新我们对中奖者的国籍以及其他属性的认知。"
   ]
  },
  {
   "cell_type": "markdown",
   "id": "3d68af9b",
   "metadata": {},
   "source": [
    "#### 练习2 <a id='fishing'></a>"
   ]
  },
  {
   "cell_type": "markdown",
   "id": "9d7052a4",
   "metadata": {},
   "source": [
    "##### 练习2.1"
   ]
  },
  {
   "cell_type": "markdown",
   "id": "ce892046",
   "metadata": {},
   "source": [
    "编写一个程序，已知抽奖只针对渔民开放，计算各国渔民抽中概率并打印结果。（以下数值只是举例，非标准答案）\n",
    "\n",
    "**输出示例**  \n",
    "```<python>\n",
    "丹麦 14.32%  \n",
    "...  \n",
    "瑞典 08.45%  \n",
    "```"
   ]
  },
  {
   "cell_type": "code",
   "execution_count": null,
   "id": "4f92866b",
   "metadata": {},
   "outputs": [],
   "source": [
    "def main():\n",
    "    countries  = ['丹麦', '芬兰', '冰岛', '挪威', '瑞典']\n",
    "    populations  = [5615000, 5439000, 324000, 5080000, 9609000] \n",
    "    fishers  = [1891, 2652, 3800, 11611, 1757] \n",
    "    total_fishers  = sum(fishers)\n",
    "    total_population = sum(populations)\n",
    "    # 在这里写下你的解决方案\n",
    "    for country, population in zip(countries, populations):\n",
    "        print(\"%s %.2f%%\" % (country, population)) # 修改以打印正确的结果\n",
    "main()\n"
   ]
  },
  {
   "cell_type": "markdown",
   "id": "ab37c435",
   "metadata": {},
   "source": [
    "##### 练习2.2\n",
    "写一个函数，已知抽奖只针对渔民开放，如果我们同时知道中奖者的性别（女性或男性）时，尝试猜测中奖者的国籍。\n",
    "\n",
    "该函数的输入参数是中奖者的性别（'女性'或'男性'）。该函数的返回值应该是一对（国家，概率），其中国家是中奖者最可能的国籍，概率是某国家是中奖者国籍的概率。"
   ]
  },
  {
   "cell_type": "markdown",
   "id": "119c71a9",
   "metadata": {},
   "source": [
    "<table>\n",
    "    <tbody>\n",
    "        <tr>\n",
    "            <th>国家</th>\n",
    "            <th>人口</th>\n",
    "            <th>男性渔民</th>\n",
    "            <th>女性渔民</th>\n",
    "            <th>渔民总数</th>\n",
    "        </tr>\n",
    "        <tr>\n",
    "            <td>丹麦</td>\n",
    "            <td>5,615,000</td>\n",
    "            <td>1822</td>\n",
    "            <td>69</td>\n",
    "            <td>1891</td>\n",
    "        </tr>\n",
    "        <tr>\n",
    "            <td>芬兰</td>\n",
    "            <td>5,439,000</td>\n",
    "            <td>2575</td>\n",
    "            <td>77</td>\n",
    "            <td>2652</td>\n",
    "        </tr>\n",
    "        <tr>\n",
    "            <td>冰岛</td>\n",
    "            <td>324,000</td>\n",
    "            <td>3400</td>\n",
    "            <td>400</td>\n",
    "            <td>3800</td>\n",
    "        </tr>\n",
    "        <tr>\n",
    "            <td>挪威</td>\n",
    "            <td>5,080,000</td>\n",
    "            <td>11,291</td>\n",
    "            <td>320</td>\n",
    "            <td>11,611</td>\n",
    "        </tr>\n",
    "        <tr>\n",
    "            <td>瑞典</td>\n",
    "            <td>9,609,000</td>\n",
    "            <td>1731</td>\n",
    "            <td>26</td>\n",
    "            <td>1757</td>\n",
    "        </tr>\n",
    "        <tr>\n",
    "            <td>合计</td>\n",
    "            <td>26,067,000</td>\n",
    "            <td>20,819</td>\n",
    "            <td>892</td>\n",
    "            <td>21,711</td>\n",
    "        </tr>\n",
    "    </tbody>\n",
    "</table>"
   ]
  },
  {
   "cell_type": "code",
   "execution_count": null,
   "id": "9e03e515",
   "metadata": {},
   "outputs": [],
   "source": [
    "countries  = ['丹麦', '芬兰', '冰岛', '挪威', '瑞典']\n",
    "populations = [5615000, 5439000, 324000, 5080000, 9609000]\n",
    "male_fishers = [1822, 2575, 3400, 11291, 1731]\n",
    "female_fishers = [69, 77, 400, 320, 26] \n",
    "\n",
    "def guess(winner_gender):\n",
    "    if winner_gender == 'female':\n",
    "        fishers = female_fishers\n",
    "    else:\n",
    "        fishers = male_fishers\n",
    "\n",
    "    # 修改这一部分代码\n",
    "\n",
    "    guess = None\n",
    "    biggest = 0.0\n",
    "    return (guess, biggest)  \n",
    "\n",
    "def main():\n",
    "    country, fraction = guess(\"male\")\n",
    "    print(\"如果获胜者是男性，我猜他来自%s；概率%.2f%%\" % (country, fraction))\n",
    "    country, fraction = guess(\"female\")\n",
    "    print(\"如果获胜者是女性，我猜她来自%s；概率为%.2f%%\" % (country, fraction))\n",
    "\n",
    "main()\n"
   ]
  },
  {
   "cell_type": "markdown",
   "id": "e69283a0",
   "metadata": {},
   "source": [
    "### 贝叶斯法则 <a id='贝叶斯法则'> </a>"
   ]
  },
  {
   "cell_type": "markdown",
   "id": "a067e98d",
   "metadata": {},
   "source": [
    "在上一节中，我们使用条件概率根据特定信息对我们不知道的事物进行推断。 回顾一下，我们不知道中奖者的国籍，而我们利用的信息是中奖者是一名渔民。"
   ]
  },
  {
   "cell_type": "markdown",
   "id": "c5722f3a",
   "metadata": {},
   "source": [
    "有一种计算此类条件概率的特定方法在许多应用中特别有用，即贝叶斯法则。 贝叶斯规则的常用公式是："
   ]
  },
  {
   "cell_type": "markdown",
   "id": "63022a67",
   "metadata": {},
   "source": [
    "$$P(A|B)=\\frac{P(B|A)P(A)}{P(B)}$$"
   ]
  },
  {
   "cell_type": "markdown",
   "id": "83111875",
   "metadata": {},
   "source": [
    "如果我们使用特定事件代替**A**和**B**，我们得到例如："
   ]
  },
  {
   "cell_type": "markdown",
   "id": "d4335f8f",
   "metadata": {},
   "source": [
    "$$P(丹麦∣渔民)=P(渔民∣丹麦) × P(丹麦)÷P(渔民)$$"
   ]
  },
  {
   "cell_type": "markdown",
   "id": "7898694b",
   "metadata": {},
   "source": [
    "$P(丹麦|渔民)$代表已知某人是渔民，国籍是丹麦的概率。 为了计算它，我们现在需要以上等式右边的三个数值:\n",
    "\n",
    "第一项是一个随机的丹麦人是渔民的概率，我们在上一节中计算了大约$0.034\\%$\n",
    "\n",
    "第二项是一个随机的人是丹麦人的概率，只考虑北欧国家，我们也已经计算并发现大约是$21.5\\%$\n",
    "\n",
    "第二项是一个随机的人是渔民的概率，只考虑北欧国家，我们需要用北欧各国的渔民总人口除以北欧各国总人口得到。$21,711/26,067,000≈0.083\\%$。\n"
   ]
  },
  {
   "cell_type": "markdown",
   "id": "88ca1ba1",
   "metadata": {},
   "source": [
    "我们更新公式\n",
    "$$P(丹麦∣渔民)=0.00034×0.215÷0.00083=0.088=8.8\\%$$"
   ]
  },
  {
   "cell_type": "markdown",
   "id": "98fc8125",
   "metadata": {},
   "source": [
    "如果大家还记得我们在上一节使用$$P(X|Y) = P(丹麦∣渔民)=渔民(丹麦)÷渔民(总数)$$\n",
    "计算结果是8.7%，和本例的结果实际是一样的。区别本例中保留精度更高所以导致小数位有$0.001$的差异。\n",
    "\n",
    "虽然我们可以用$渔民(丹麦)÷渔民(总数)$计算得到同样的结果，本例的意图是一方面，介绍贝叶斯法则，另一方面是因为有时候我们并不能直接知道$渔民(丹麦)$或$渔民(总数)$这类变量结果，而是已知$𝑃(渔民∣丹麦)$,$𝑃(丹麦)$,$𝑃(渔民)$这样的概率类型。"
   ]
  },
  {
   "cell_type": "markdown",
   "id": "37c16f98",
   "metadata": {},
   "source": [
    "假设你是一个美食博主，你的博客总是有很多人关注，但是其中一部分，名字很奇怪的比如“user09283475”是机器人。你希望过滤掉这些无效粉丝，所以打算使用贝叶斯法则来估测下一个关注者是人还是机器人。"
   ]
  },
  {
   "cell_type": "markdown",
   "id": "921c2406",
   "metadata": {},
   "source": [
    "#### 练习3  <a id='fence'> </a>"
   ]
  },
  {
   "cell_type": "markdown",
   "id": "c5ca659f",
   "metadata": {},
   "source": [
    "![food](food.gif)"
   ]
  },
  {
   "cell_type": "markdown",
   "id": "dbfeb116",
   "metadata": {},
   "source": [
    "##### 练习3.1\n",
    "假设你所有粉丝里有5%是机器人，写成$P(bot)=0.5$，同时\n",
    "\n",
    "假设所有的机器人账号里都包含有8位数字的占80%，例如“09283475”，写成$P(8-digits | bot) = 0.8$，同时\n",
    "\n",
    "假设下一位关注者账号中带有8位数字的概率是41%，写成$P(8-digits)=0.041$\n",
    "\n",
    "使用贝叶斯规则计算新关注者是机器人的概率 $$P(bot | 8-digits)：P(A | B) = \\frac{P(B | A)×P(A)}{P(B)}$$\n",
    "\n",
    "选择正确的答案（四舍五入到小数点后一位）"
   ]
  },
  {
   "cell_type": "markdown",
   "id": "0da1b1ea",
   "metadata": {},
   "source": [
    "- 0.16%  \n",
    "- 5%  \n",
    "- 97.6%  "
   ]
  },
  {
   "cell_type": "markdown",
   "id": "9bbe900e",
   "metadata": {},
   "source": [
    "<details><summary><h6>点击查看答案</h6></summary>97.6%</details>"
   ]
  },
  {
   "cell_type": "markdown",
   "id": "69862674",
   "metadata": {},
   "source": [
    "<h5>练习3.2</h5>"
   ]
  },
  {
   "cell_type": "markdown",
   "id": "14d2ad1b",
   "metadata": {},
   "source": [
    "作为一个热门美食博主，你希望通过贝叶斯法则更好地计算下一个粉丝是否是真人。\n",
    "\n",
    "假设你所有粉丝里有5%是机器人，写成$P(bot)=0.5$，同时\n",
    "\n",
    "假设所有的机器人账号里都包含有8位数字的占80%，例如“09283475”，写成$P(8-digits | bot) = 0.8$，同时\n",
    "\n",
    "假设你不了解机器人，但是你知道一般一个人类粉丝在用户名里使用8位数字的概率很低，写成$P(8-digits | human) = 0.01$\n",
    "\n",
    "我们现在可以通过以下公式计算(8-digits)\n",
    "\n",
    "$$P(8-digits) = P(8-digits | bot) x P(bot) + P(8-digits | human) x P(human)$$\n"
   ]
  },
  {
   "cell_type": "markdown",
   "id": "3e323784",
   "metadata": {},
   "source": [
    "最后一项 $P(human)$必须为 0.95，因为另一个选项$P(bot)$的概率为 0.05。 将数字代入上式计算概率$P(8-digits)$，选择正确的选项。  \n",
    "- 0.0  \n",
    "- 0.0495  \n",
    "- 0.099\n"
   ]
  },
  {
   "cell_type": "markdown",
   "id": "e444b0a9",
   "metadata": {},
   "source": [
    "<details><summary><h6>点击查看答案</h6></summary>0.0495</details>"
   ]
  },
  {
   "cell_type": "markdown",
   "id": "254d442b",
   "metadata": {},
   "source": [
    "最后，使用贝叶斯规则计算新关注者是机器人的概率 P(bot | 8-digits)。 所需的三个项的值在上面找到。 选择正确的答案（四舍五入到小数点后四位）\n",
    "- 0.0025\n",
    "- 0.0808\n",
    "- 0.8081"
   ]
  },
  {
   "cell_type": "markdown",
   "id": "d23bb8a8",
   "metadata": {},
   "source": [
    "<details><summary><h6>点击查看答案</h6></summary>0.8081</details>"
   ]
  },
  {
   "cell_type": "markdown",
   "id": "222894f5",
   "metadata": {},
   "source": [
    "### 朴素贝叶斯 <a id='朴素贝叶斯分类器'></a>"
   ]
  },
  {
   "cell_type": "markdown",
   "id": "6ceb4719",
   "metadata": {},
   "source": [
    "贝叶斯规则最有用的应用之一是所谓的朴素贝叶斯分类器。 它是一种机器学习技术，可用于将文本文档等对象分为两个或多个类别。 通过分析一组给出正确类别的训练数据来训练分类器。 我们在理论课中对此进行了介绍。现在，你需要关注的基本思想是使用贝叶斯规则来计算概率。"
   ]
  },
  {
   "cell_type": "markdown",
   "id": "7959a44a",
   "metadata": {},
   "source": [
    "$$P(spam∣words)=P(words ∣ spam)P(spam)÷P(words)$$"
   ]
  },
  {
   "cell_type": "markdown",
   "id": "d732423c",
   "metadata": {},
   "source": [
    "以上公式显示垃圾邮件的概率。 如果$P(spam | words)$概率很高，那么过滤器可能会自动删除邮件或将其放入垃圾邮件文件夹。\n",
    "这个想法是使用大量垃圾邮件来估计其中每个词汇的频率，可以用作$P(words ∣ spam)$，可以用相同的方法计算非垃圾邮件概率，写作$P(words ∣ non-spam)$\n",
    "\n",
    "`spam`表示`垃圾邮件`，`words`表示`一封邮件中的所有词汇`，`non-spam`表示`非垃圾邮件`。"
   ]
  },
  {
   "cell_type": "markdown",
   "id": "d1ad9b04",
   "metadata": {},
   "source": [
    "##### 什么是“朴素”\n",
    "朴素贝叶斯分类器被称为“朴素”的原因与独立处理消息中的每个词汇并忽略它们的顺序有关。 所以根据朴素贝叶斯模型，一条内容为“狗咬人”的消息与“人咬狗”没有区别。 这种忽略词序的方法通常被称为`词袋`（bag of words）方法"
   ]
  },
  {
   "cell_type": "markdown",
   "id": "1b7d11ce",
   "metadata": {},
   "source": [
    "因为忽略了词汇的顺序并且认为词和词之间是相互独立的，我们计算朴素贝叶斯的步骤如下所示：\n",
    "<ol>\n",
    "    <li> 假设赔率为1:1，也就是垃圾邮件的概率为50%</li>\n",
    "    <li> 计算似然比 $r=P(word | spam) ÷ P(word | non-spam)$</li>\n",
    "    <li> 赔率乘以r</li>\n",
    "    <li> 重复步骤2和3直至所有词汇（words）都被处理</li>\n",
    "</ol>"
   ]
  },
  {
   "cell_type": "markdown",
   "id": "20444d92",
   "metadata": {},
   "source": [
    "注意：我们这里使用`赔率`而不是`概率`是因为赔率会加速计算，两者关系在理论课中有说明。"
   ]
  },
  {
   "cell_type": "markdown",
   "id": "fdea8efd",
   "metadata": {},
   "source": [
    "![spam](spam.gif)"
   ]
  },
  {
   "cell_type": "markdown",
   "id": "2d040cbe",
   "metadata": {},
   "source": [
    "为了简化模型，假设我们收到一封电子邮件，里面只有“百万会议”，2个词汇。我们分析了一堆电子邮件后计算得出下表。"
   ]
  },
  {
   "cell_type": "markdown",
   "id": "3bcd1f45",
   "metadata": {},
   "source": [
    "<table class=\"css-1gqxwp4 e1wk1u5g0\"><tbody><tr><th></th><th>spam</th><th>non-spam</th></tr><tr><td>百万</td><td>0.0016285</td><td>0.0003198</td></tr><tr><td>会议</td><td>0.0000100</td><td>0.0000391</td></tr></tbody></table>"
   ]
  },
  {
   "cell_type": "markdown",
   "id": "489c5b83",
   "metadata": {},
   "source": [
    "我们从而计算得出\n",
    "$$P(百万 ∣ spam)÷P(百万∣non-spam)=0.0016285÷0.0003198=5.0923$$\n",
    "以及\n",
    "$$P(会议 | spam)÷P(会议∣ham)=0.0000100÷0.0000391=0.2554$$"
   ]
  },
  {
   "cell_type": "markdown",
   "id": "fa3c2dca",
   "metadata": {},
   "source": [
    "当赔率1：1乘以第一个r时，它变成5.0923：1。\n",
    "\n",
    "这意味着，仅给定词汇“百万”，消息是垃圾邮件的概率大约是它是正常邮件的概率的五倍，消息看起来是垃圾邮件，但最终很可能不是的。\n",
    "\n",
    "对于第二个单词“会议”，赔率乘以0.2554，因此它变成$（0.2554 x 5.0923）：1=1.30：1$。现在，消息要么是垃圾邮件，要么是非垃圾邮件的可能性几乎相等。\n",
    "\n",
    "回想一下，你可以使用以下简单公式从赔率中获得概率值："
   ]
  },
  {
   "cell_type": "markdown",
   "id": "d0af8cfd",
   "metadata": {},
   "source": [
    "```<python>\n",
    "if 赔率 = x:y,\n",
    "    then 概率 y=x÷(x+y)\n",
    "```"
   ]
  },
  {
   "cell_type": "markdown",
   "id": "86e8035a",
   "metadata": {},
   "source": [
    "例如赔率是$1.30：1$，那么概率就是$1.30÷(1.30+1)=0.565=56.5\\%$"
   ]
  },
  {
   "cell_type": "markdown",
   "id": "eae50d6a",
   "metadata": {},
   "source": [
    "#### 练习4 \n",
    "##### 练习4.1"
   ]
  },
  {
   "cell_type": "markdown",
   "id": "a3de7d8a",
   "metadata": {},
   "source": [
    "我们有两个骰子。 一种是普通的普通骰子，有六个面。 每一方都有相同的 1/6 概率。 另一个是奇怪的骰子，它也有六个面，但平均每2次就能摇到数字6。 这意味着第一次骰子得到 6 的概率为 16.7%，而第二次骰子得到 6 的概率为 50%。\n",
    "\n",
    "假设我们随机选择一个骰子，也就是两个骰子都有相同的机会被选中，然后开始一次又一次地掷这个骰子。 如果第一次掷出的结果是 6，你不能确定是不是奇怪的骰子。 如果第二次掷出的结果也是 6，你就会开始认为它可能是。 在第三个六之后，你会开始非常相信。\n",
    "\n",
    "如果结果一直是 6，总共需要多少次掷骰（从一开始算起），直到概率至少为 100:1 有利于奇怪的骰子？\n",
    "\n",
    "提示：使用上面讨论的似然比 (r)。 在这种情况下，$r = \\frac{P(6 | 奇怪)}{ P(6 | 正常)}$"
   ]
  },
  {
   "cell_type": "markdown",
   "id": "e795a0ab",
   "metadata": {},
   "source": [
    "- 3\n",
    "- 4\n",
    "- 5"
   ]
  },
  {
   "cell_type": "markdown",
   "id": "c2e47f29",
   "metadata": {},
   "source": [
    "<details><summary><h6>点击查看答案</h6></summary>\n",
    "似然比为 $r = \\frac{P(6 | 奇怪)}{ P(6 | 正常)} = \\frac {1/2}{1/6} = 3$ 。如果我们以 1:1 的赔率开始，则每个赔率之后的赔率序列 结果是6的赔率是： 3:1, 9:1, 27:1, 81:1, 243:1, ... 第五次后出现第一个 100:1 。\n",
    "</details>"
   ]
  },
  {
   "cell_type": "markdown",
   "id": "6753b91d",
   "metadata": {},
   "source": [
    "<h5> 练习4.2 </h5>"
   ]
  },
  {
   "cell_type": "markdown",
   "id": "a35f7be3",
   "metadata": {},
   "source": [
    "假设我们有两个硬币。 一种是普通的 2 元硬币，正面朝上的概率为 50%，反面朝上的概率也为 50%。 另一枚硬币是从魔术师商店买来的，两面都是正面的。 适合派对技巧等。 它以100% 的概率出现正面。\n",
    "\n",
    "现在假设我们随机选择两枚硬币中的一枚，这样一枚硬币被选中的概率是相等的。 因此，我们拥有普通硬币的几率是 1:1。\n",
    "\n",
    "假设选择的硬币一直正面朝上。 我们有多确信它是神奇的硬币？\n",
    "\n",
    "让我们使用朴素贝叶斯方法来计算神奇硬币的几率。 我们可以从 1:1 的赔率开始，因为每个硬币开始时的可能性是相等的。 每次我们抛硬币，它正面朝上时，几率乘以似然比，即\n",
    "\n",
    "$r = \\frac{P（正面|魔术)}{P（正面|正常）}=\\frac{1}{0.5}= 2$\n",
    "\n",
    "你的任务：从赔率 1:1（简单地表示为数值 1.0）开始，使用朴素贝叶斯方法在连续 n 次正面朝上后更新魔法硬币的赔率。 例如，在出现三个正面（n=3）之后，赔率应该是$ 1 x 2 x 2 x 2 = 8.0$ 。"
   ]
  },
  {
   "cell_type": "code",
   "execution_count": null,
   "id": "2f900511",
   "metadata": {
    "scrolled": true
   },
   "outputs": [],
   "source": [
    "def flip(n):\n",
    "    odds = 1.0        # 以 50% 几率获得魔法硬币开始，这与 odds = 1:1 相同\n",
    "    for i in range(n):\n",
    "        pass           # 在这里编辑以更新赔率\n",
    "    print(odds)\n",
    "\n",
    "n = 1\n",
    "flip(n)\n"
   ]
  },
  {
   "cell_type": "markdown",
   "id": "15a0f775",
   "metadata": {},
   "source": [
    "<h5> 练习4.3 </h5>"
   ]
  },
  {
   "cell_type": "markdown",
   "id": "b3f1b2c3",
   "metadata": {},
   "source": [
    "回到练习4.1的普通骰子和奇怪骰子，以下程序将骰子的选择作为其输入，然后模拟十次掷骰子的序列。\n",
    "\n",
    "你的任务：从赔率 1:1 开始，使用朴素贝叶斯方法在每个结果后更新赔率，以确定哪个骰子更有可能。 编辑函数 bayes，如果最有可能的模具是已加载的模具，则返回 True，否则返回 False。 记住在访问列表元素时要小心索引！"
   ]
  },
  {
   "cell_type": "code",
   "execution_count": null,
   "id": "bc2f2a6a",
   "metadata": {},
   "outputs": [],
   "source": [
    "import numpy as np\n",
    "\n",
    "p1 = [1/6, 1/6, 1/6, 1/6, 1/6, 1/6]   # 普通\n",
    "p2 = [0.1, 0.1, 0.1, 0.1, 0.1, 0.5]   # 奇怪\n",
    "\n",
    "def roll(loaded):\n",
    "    if loaded:\n",
    "        print(\"扔一个奇怪的骰子\")\n",
    "        p = p2\n",
    "    else:\n",
    "        print(\"扔一个普通的筛子\")\n",
    "        p = p1\n",
    "\n",
    "    # 掷骰子 10 次\n",
    "    # 加 1 得到从 1 到 6 的骰子而不是 0 到 5\n",
    "    sequence = np.random.choice(6, size=10, p=p) + 1 \n",
    "    for roll in sequence:\n",
    "        print(\"扔了 %d 次\" % roll)\n",
    "        \n",
    "    return sequence\n",
    "\n",
    "def bayes(sequence):\n",
    "    odds = 1.0           # 从赔率1：1开始\n",
    "    for roll in sequence:\n",
    "        pass             # 编辑此处更新赔率\n",
    "    if odds > 1:\n",
    "        return True\n",
    "    else:\n",
    "        return False\n",
    "\n",
    "sequence = roll(True)\n",
    "if bayes(sequence):\n",
    "    print(\"是普通的骰子\")\n",
    "else:\n",
    "    print(\"是奇怪的骰子\")\n"
   ]
  },
  {
   "cell_type": "code",
   "execution_count": null,
   "id": "c0a254ee",
   "metadata": {},
   "outputs": [],
   "source": [
    "# 恭喜你完成了实验三的练习"
   ]
  }
 ],
 "metadata": {
  "kernelspec": {
   "display_name": "Python 3 (ipykernel)",
   "language": "python",
   "name": "python3"
  },
  "language_info": {
   "codemirror_mode": {
    "name": "ipython",
    "version": 3
   },
   "file_extension": ".py",
   "mimetype": "text/x-python",
   "name": "python",
   "nbconvert_exporter": "python",
   "pygments_lexer": "ipython3",
   "version": "3.9.12"
  }
 },
 "nbformat": 4,
 "nbformat_minor": 5
}
